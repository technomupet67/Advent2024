{
 "cells": [
  {
   "cell_type": "code",
   "execution_count": 1,
   "metadata": {},
   "outputs": [],
   "source": [
    "# This is my Notebook for Advent of Code 2024\n"
   ]
  },
  {
   "cell_type": "code",
   "execution_count": 47,
   "metadata": {},
   "outputs": [],
   "source": [
    "input_line = \"pqr3stu8vwx\""
   ]
  },
  {
   "cell_type": "code",
   "execution_count": 5,
   "metadata": {},
   "outputs": [
    {
     "name": "stdout",
     "output_type": "stream",
     "text": [
      "Input: 1abc2 is the input line\n"
     ]
    }
   ],
   "source": [
    "print(f\"Input: {input_line} is the input line\")"
   ]
  },
  {
   "cell_type": "code",
   "execution_count": 55,
   "metadata": {},
   "outputs": [
    {
     "name": "stdout",
     "output_type": "stream",
     "text": [
      "\n",
      "\n",
      "Found the first digit: 3\n",
      "Found the last digit: 8\n",
      "\n",
      "\n",
      "The combined digits are: 38\n"
     ]
    }
   ],
   "source": [
    "how_long = len(input_line)\n",
    "# print(f\"The string is {how_long} characters long\")\n",
    "print()\n",
    "print()\n",
    "\n",
    "\n",
    "the_digits = [\"0\", \"1\", \"2\", \"3\", \"4\", \"5\", \"6,\", \"7\", \"8\", \"9\"]\n",
    "\n",
    "for where_to_look in range(how_long):\n",
    "    # print(f\"Looking at position {where_to_look}\")\n",
    "    the_letter = input_line[where_to_look]\n",
    "    # print(f\"The letter is: {the_letter}\")\n",
    "    if the_letter in the_digits:\n",
    "        #print(f\"Found a digit: {the_letter}\")\n",
    "        found = the_letter\n",
    "        break\n",
    "\n",
    "print(f\"Found the first digit: {found}\")\n",
    "first_digit = found\n",
    "\n",
    "for temporary in range(how_long):\n",
    "    where_to_look = how_long - temporary -1\n",
    "    the_letter = input_line[where_to_look]\n",
    "    # print(f\"Looking at position {where_to_look}\")\n",
    "    # print(f\"The letter is: {the_letter}\")\n",
    "    if the_letter in the_digits:\n",
    "        #print(f\"Found a digit: {the_letter}\")\n",
    "        found = the_letter\n",
    "        break\n",
    "    \n",
    "print(f\"Found the last digit: {found}\")\n",
    "last_digit = found\n",
    "both_digits = first_digit + last_digit\n",
    "value_both = int(both_digits)\n",
    "\n",
    "print()\n",
    "print()\n",
    "print(f\"The combined digits are: {both_digits}\")\n",
    "\n"
   ]
  },
  {
   "cell_type": "code",
   "execution_count": null,
   "metadata": {},
   "outputs": [
    {
     "name": "stdout",
     "output_type": "stream",
     "text": [
      "The digits are: ['0', '1', '2', 'fdsfhgjkdf gh3', '4', '5', '6,', '7', '8', '9']\n"
     ]
    }
   ],
   "source": [
    "# A list\n",
    "\n",
    "the_digits = [\"0\", \"1\", \"2\", \"3\", \"4\", \"5\",\"6,\",\"7\",\"8\",\"9\"]\n",
    "\n",
    "print(f\"The digits are: {the_digits}\")"
   ]
  },
  {
   "cell_type": "code",
   "execution_count": 18,
   "metadata": {},
   "outputs": [
    {
     "data": {
      "text/plain": [
       "'5'"
      ]
     },
     "execution_count": 18,
     "metadata": {},
     "output_type": "execute_result"
    }
   ],
   "source": [
    "the_digits[5]"
   ]
  },
  {
   "cell_type": "code",
   "execution_count": 21,
   "metadata": {},
   "outputs": [
    {
     "data": {
      "text/plain": [
       "'fdsfhgjkdf gh3'"
      ]
     },
     "execution_count": 21,
     "metadata": {},
     "output_type": "execute_result"
    }
   ],
   "source": [
    "the_digits[3]"
   ]
  },
  {
   "cell_type": "code",
   "execution_count": 25,
   "metadata": {},
   "outputs": [
    {
     "name": "stdout",
     "output_type": "stream",
     "text": [
      "5\n"
     ]
    }
   ],
   "source": [
    "a = \"5\"\n",
    "b = \"7\"\n",
    "\n",
    "print(a)"
   ]
  },
  {
   "cell_type": "code",
   "execution_count": 26,
   "metadata": {},
   "outputs": [
    {
     "name": "stdout",
     "output_type": "stream",
     "text": [
      "7\n"
     ]
    }
   ],
   "source": [
    "print(b)"
   ]
  },
  {
   "cell_type": "code",
   "execution_count": 27,
   "metadata": {},
   "outputs": [
    {
     "name": "stdout",
     "output_type": "stream",
     "text": [
      "57\n"
     ]
    }
   ],
   "source": [
    "print(a+b)"
   ]
  },
  {
   "cell_type": "code",
   "execution_count": 29,
   "metadata": {},
   "outputs": [
    {
     "name": "stdout",
     "output_type": "stream",
     "text": [
      "12\n"
     ]
    }
   ],
   "source": [
    "print(int(a)+int(b))"
   ]
  },
  {
   "cell_type": "code",
   "execution_count": 39,
   "metadata": {},
   "outputs": [
    {
     "name": "stdout",
     "output_type": "stream",
     "text": [
      "The string is 7 characters long\n",
      "\n",
      "\n",
      "Looking at position 0\n",
      "The letter is: O\n",
      "Looking at position 1\n",
      "The letter is: l\n",
      "Looking at position 2\n",
      "The letter is: i\n",
      "Looking at position 3\n",
      "The letter is: v\n",
      "Looking at position 4\n",
      "The letter is: i\n",
      "Looking at position 5\n",
      "The letter is: e\n",
      "Looking at position 6\n",
      "The letter is: r\n",
      "Found the digit: 3\n"
     ]
    }
   ],
   "source": [
    "how_long = len(input_line)\n",
    "print(f\"The string is {how_long} characters long\")\n",
    "print()\n",
    "print()\n",
    "\n",
    "\n",
    "the_digits = [\"0\", \"1\", \"2\", \"3\", \"4\", \"5\",\"6,\",\"7\",\"8\",\"9\"]\n",
    "\n",
    "for where_to_look in range(how_long):\n",
    "    print(f\"Looking at position {where_to_look}\")\n",
    "    the_letter = input_line[where_to_look]\n",
    "    print(f\"The letter is: {the_letter}\")\n",
    "    if the_letter in the_digits:\n",
    "        #print(f\"Found a digit: {the_letter}\")\n",
    "        found = int(the_letter)\n",
    "        break\n",
    "print(f\"Found the digit: {found}\")\n"
   ]
  },
  {
   "cell_type": "code",
   "execution_count": 38,
   "metadata": {},
   "outputs": [],
   "source": [
    "input_line = \"Olivier\""
   ]
  },
  {
   "cell_type": "code",
   "execution_count": null,
   "metadata": {},
   "outputs": [],
   "source": []
  },
  {
   "cell_type": "code",
   "execution_count": null,
   "metadata": {},
   "outputs": [],
   "source": [
    "def how_long_is_it(input_line):\n",
    "    how_long = len(input_line)\n",
    "    return how_long"
   ]
  },
  {
   "cell_type": "code",
   "execution_count": null,
   "metadata": {},
   "outputs": [],
   "source": []
  },
  {
   "cell_type": "code",
   "execution_count": 60,
   "metadata": {},
   "outputs": [],
   "source": [
    "def two_digit_output(input_line):\n",
    "  # This is the function that will return the first and last digits of a string\n",
    "    \n",
    "  how_long = len(input_line)\n",
    "  # print(f\"The string is {how_long} characters long\")\n",
    "  print()\n",
    "  print()\n",
    "\n",
    "\n",
    "  the_digits = [\"0\", \"1\", \"2\", \"3\", \"4\", \"5\", \"6,\", \"7\", \"8\", \"9\"]\n",
    "\n",
    "  for where_to_look in range(how_long):\n",
    "      # print(f\"Looking at position {where_to_look}\")\n",
    "      the_letter = input_line[where_to_look]\n",
    "      # print(f\"The letter is: {the_letter}\")\n",
    "      if the_letter in the_digits:\n",
    "          #print(f\"Found a digit: {the_letter}\")\n",
    "          found = the_letter\n",
    "          break\n",
    "\n",
    "  # print(f\"Found the first digit: {found}\")\n",
    "  first_digit = found\n",
    "\n",
    "  for temporary in range(how_long):\n",
    "      where_to_look = how_long - temporary -1\n",
    "      the_letter = input_line[where_to_look]\n",
    "      # print(f\"Looking at position {where_to_look}\")\n",
    "      # print(f\"The letter is: {the_letter}\")\n",
    "      if the_letter in the_digits:\n",
    "          #print(f\"Found a digit: {the_letter}\")\n",
    "          found = the_letter\n",
    "          break\n",
    "      \n",
    "  # print(f\"Found the last digit: {found}\")\n",
    "  last_digit = found\n",
    "  both_digits = first_digit + last_digit\n",
    "  value_both = int(both_digits)\n",
    "\n",
    "  #print()\n",
    "  #print()\n",
    "  #print(f\"The combined digits are: {both_digits}\")\n",
    "  return both_digits\n"
   ]
  },
  {
   "cell_type": "code",
   "execution_count": 61,
   "metadata": {},
   "outputs": [
    {
     "name": "stdout",
     "output_type": "stream",
     "text": [
      "\n",
      "\n"
     ]
    },
    {
     "data": {
      "text/plain": [
       "'38'"
      ]
     },
     "execution_count": 61,
     "metadata": {},
     "output_type": "execute_result"
    }
   ],
   "source": [
    "two_digit_output(\"pqr3stu8vwx\")"
   ]
  },
  {
   "cell_type": "code",
   "execution_count": 64,
   "metadata": {},
   "outputs": [],
   "source": [
    "# open data file and store it in a list\n",
    "# Read the data in from the file\n",
    "def get_data(file_name):\n",
    "  global data \n",
    "  with open(f\"data/{file_name}\", \"r\") as txt_file:\n",
    "    data = txt_file.readlines()\n",
    "    data.append('\\n') # this is to make sure the last line is read\n",
    "  return data\n"
   ]
  },
  {
   "cell_type": "code",
   "execution_count": 66,
   "metadata": {},
   "outputs": [
    {
     "data": {
      "text/plain": [
       "['1abc2\\n', 'pqr3stu8vwx\\n', 'a1b2c3d4e5f\\n', 'treb7uchet\\n', '\\n']"
      ]
     },
     "execution_count": 66,
     "metadata": {},
     "output_type": "execute_result"
    }
   ],
   "source": [
    "get_data(\"day1.txt\")\n"
   ]
  },
  {
   "cell_type": "code",
   "execution_count": 67,
   "metadata": {},
   "outputs": [
    {
     "data": {
      "text/plain": [
       "['1abc2\\n', 'pqr3stu8vwx\\n', 'a1b2c3d4e5f\\n', 'treb7uchet\\n', '\\n']"
      ]
     },
     "execution_count": 67,
     "metadata": {},
     "output_type": "execute_result"
    }
   ],
   "source": [
    "data"
   ]
  },
  {
   "cell_type": "code",
   "execution_count": 68,
   "metadata": {},
   "outputs": [
    {
     "data": {
      "text/plain": [
       "5"
      ]
     },
     "execution_count": 68,
     "metadata": {},
     "output_type": "execute_result"
    }
   ],
   "source": [
    "len(data)"
   ]
  },
  {
   "cell_type": "code",
   "execution_count": 69,
   "metadata": {},
   "outputs": [
    {
     "name": "stdout",
     "output_type": "stream",
     "text": [
      "1abc2\n",
      "\n",
      "pqr3stu8vwx\n",
      "\n",
      "a1b2c3d4e5f\n",
      "\n",
      "treb7uchet\n",
      "\n",
      "\n",
      "\n"
     ]
    }
   ],
   "source": [
    "for line in data:\n",
    "  print(line)"
   ]
  },
  {
   "cell_type": "code",
   "execution_count": null,
   "metadata": {},
   "outputs": [],
   "source": []
  }
 ],
 "metadata": {
  "kernelspec": {
   "display_name": "Python 3",
   "language": "python",
   "name": "python3"
  },
  "language_info": {
   "codemirror_mode": {
    "name": "ipython",
    "version": 3
   },
   "file_extension": ".py",
   "mimetype": "text/x-python",
   "name": "python",
   "nbconvert_exporter": "python",
   "pygments_lexer": "ipython3",
   "version": "3.11.5"
  }
 },
 "nbformat": 4,
 "nbformat_minor": 2
}

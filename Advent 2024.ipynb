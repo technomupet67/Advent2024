{
 "cells": [
  {
   "cell_type": "markdown",
   "metadata": {},
   "source": [
    "# This notebook is to code the Advent of Code of 2024 - Day 1\n",
    "# Getting ready for the challenge\n"
   ]
  },
  {
   "cell_type": "code",
   "execution_count": null,
   "metadata": {},
   "outputs": [],
   "source": [
    "\n",
    "# open data file and store it in a list\n",
    "# Read the data in from the file\n",
    "def get_data(file_name):\n",
    "  global data \n",
    "  with open(f\"data/{file_name}\", \"r\") as txt_file:\n",
    "    temp = txt_file.readlines()\n",
    "    temp.append('\\n') # this is to make sure the last line is read if there is no newline at the end of the file\n",
    "    data = []\n",
    "    for line in temp:\n",
    "      data.append(line.strip('\\n'))\n",
    "    # if the last line is empty, remove it\n",
    "    if data[-1] == '':\n",
    "      data.pop()\n",
    "  "
   ]
  },
  {
   "cell_type": "markdown",
   "metadata": {},
   "source": [
    "# Day 1 part 1"
   ]
  },
  {
   "cell_type": "code",
   "execution_count": null,
   "metadata": {},
   "outputs": [],
   "source": [
    "# This will load the data from the text file on the drive into a python list called data\n",
    "get_data(\"day1.txt\")"
   ]
  },
  {
   "cell_type": "code",
   "execution_count": null,
   "metadata": {},
   "outputs": [],
   "source": [
    "data"
   ]
  },
  {
   "cell_type": "code",
   "execution_count": null,
   "metadata": {},
   "outputs": [],
   "source": [
    "\n",
    "\n",
    "# Create the two empty lists to store the numbers from the data\n",
    "list_a = []\n",
    "list_b = []\n",
    "\n",
    "# We go through each line in the data and split it into two lists\n",
    "for i in range(0, len(data)):\n",
    "  temp = data[i].split('   ') # store in the variable temp the data is separated by three spaces, so we split on that\n",
    "  list_a.append(temp[0]) # we build the first list with the first part of the split\n",
    "  list_b.append(temp[1]) # the second part of the split is the second list\n",
    "\n",
    "# Create 2 new lists that have the data but sorted, so we can compare them\n",
    "list_a_s = sorted(list_a)\n",
    "list_b_s = sorted(list_b)\n",
    "\n",
    "# Compare the two lists by checking the differences between the two lists\n",
    "sum = 0\n",
    "for i in range(0, len(list_a_s)):\n",
    "  sum += abs(int(list_a_s[i]) - int(list_b_s[i])) # add the absolute value of the difference between the two integer numbers of the lists\n",
    "  print(f'The difference between {list_a_s[i]} and {list_b_s[i]} is {abs(int(list_a_s[i]) - int(list_b_s[i]))}.')\n",
    "\n",
    "print()\n",
    "print(f'The sum of the differences between the two lists is {sum} or {sum:,.0f} in a formatted fashion.')\n",
    "\n",
    "  "
   ]
  },
  {
   "cell_type": "code",
   "execution_count": null,
   "metadata": {},
   "outputs": [],
   "source": [
    "list_a_s"
   ]
  },
  {
   "cell_type": "markdown",
   "metadata": {},
   "source": [
    "# Day 1 part 2"
   ]
  },
  {
   "cell_type": "code",
   "execution_count": null,
   "metadata": {},
   "outputs": [],
   "source": [
    "# Go through each item in the first list and check how many times it appears in the second list\n",
    "similarity_score = 0\n",
    "multiplier = 0\n",
    "for i in range(0, len(list_a)): # go through each item in the first list\n",
    "  for j in range(0, len(list_b)): # go through each item in the second list\n",
    "    if list_a[i] == list_b[j]: # if the two items match, increase the multiplier\n",
    "      multiplier += 1\n",
    "  # print(f'{list_a[i]} appears {multiplier} times in the second list.')\n",
    "  similarity_score += multiplier*int(list_a[i]) # add the value of the item in the first list times the multiplier\n",
    "  multiplier = 0 # reset the multiplier for the next item in the first list\n",
    "\n",
    "print(f'The similarity score is {similarity_score} or {similarity_score:,.0f} in a formatted fashion.')\n"
   ]
  },
  {
   "cell_type": "markdown",
   "metadata": {},
   "source": [
    "# Day 2 Part 1\n"
   ]
  },
  {
   "cell_type": "markdown",
   "metadata": {},
   "source": [
    "# This will load the data from the text file on the drive into a python list called data\n"
   ]
  },
  {
   "cell_type": "code",
   "execution_count": null,
   "metadata": {},
   "outputs": [],
   "source": [
    "get_data(\"day2_real.txt\")\n",
    "for i, line in enumerate(data):\n",
    "  data[i] = line.split(' ')"
   ]
  },
  {
   "cell_type": "code",
   "execution_count": null,
   "metadata": {},
   "outputs": [],
   "source": [
    "data"
   ]
  },
  {
   "cell_type": "code",
   "execution_count": null,
   "metadata": {},
   "outputs": [],
   "source": [
    "def is_it_safe(line):\n",
    "  level_locator = 0\n",
    "  safe = True\n",
    "  check = int(line[0])\n",
    "  going_up = False\n",
    "  currently_going_up = False\n",
    "  if int(line[1]) > check:\n",
    "    going_up = True\n",
    "    currently_going_up = True\n",
    "\n",
    "  for i in range(1, len(line)):\n",
    "    if int(line[i]) > check: # check if the current number is greater than the previous number\n",
    "      currently_going_up = True # if it is, set the currently_going_up variable to True\n",
    "    else:\n",
    "      currently_going_up = False # if it is not, set the currently_going_up variable to False\n",
    "\n",
    "    if currently_going_up != going_up:\n",
    "      safe = False\n",
    "      level_locator = i\n",
    "      break\n",
    "\n",
    "    if (abs(check - int(line[i])) > 3) or abs(check - int(line[i])) < 1:\n",
    "      safe = False\n",
    "      level_locator = i\n",
    "      break\n",
    "\n",
    "\n",
    "    check = int(line[i]) # update the check variable to the current number\n",
    "\n",
    "    \n",
    "  return safe, level_locator # return the safe variable and the location of the level that is not safe (for part2)\n",
    "\n",
    "\n",
    "sum = 0\n",
    "for i,line in enumerate(data):\n",
    "  test,dummy = is_it_safe(line)\n",
    "  if test:\n",
    "    sum += 1\n",
    "  print(f'{i+1}: {line}, {test}')\n",
    "\n",
    "print(f'The number of safe lines is {sum}.')"
   ]
  },
  {
   "cell_type": "markdown",
   "metadata": {},
   "source": [
    "# Day 2 PArt 2"
   ]
  },
  {
   "cell_type": "code",
   "execution_count": null,
   "metadata": {},
   "outputs": [],
   "source": [
    "def is_it_safe(line):\n",
    "  level_locator = 0\n",
    "  safe = True\n",
    "  check = int(line[0])\n",
    "  going_up = False\n",
    "  currently_going_up = False\n",
    "  if int(line[1]) > check:\n",
    "    going_up = True\n",
    "    currently_going_up = True\n",
    "\n",
    "  for i in range(1, len(line)):\n",
    "    if int(line[i]) > check: # check if the current number is greater than the previous number\n",
    "      currently_going_up = True # if it is, set the currently_going_up variable to True\n",
    "    else:\n",
    "      currently_going_up = False # if it is not, set the currently_going_up variable to False\n",
    "\n",
    "    if currently_going_up != going_up:\n",
    "      safe = False\n",
    "      level_locator = i\n",
    "      break\n",
    "\n",
    "    if (abs(check - int(line[i])) > 3) or abs(check - int(line[i])) < 1:\n",
    "      safe = False\n",
    "      level_locator = i\n",
    "      break\n",
    "\n",
    "\n",
    "    check = int(line[i]) # update the check variable to the current number\n",
    "\n",
    "    \n",
    "  return safe, level_locator # return the safe variable and the location of the level that is not safe (for part2)\n",
    "\n",
    "\n",
    "sum = 0\n",
    "for i,line in enumerate(data):\n",
    "  test,location = is_it_safe(line)\n",
    "  # print(f'{i+1}: Testing {line}, {test}, current tally is {sum}')\n",
    "  if test:\n",
    "    sum += 1\n",
    "    # print(f'Passed for {line}')\n",
    "  else: # we failed once, let's try again without that level in the report\n",
    "      new_line = line[:location] + line[location+1:]\n",
    "      # print(f\"Re-testing for : {new_line}\")\n",
    "      test_2,dummy = is_it_safe(new_line)\n",
    "      \n",
    "      if test_2 == True:\n",
    "        # print(f'Passed for {new_line} on second attempt.')\n",
    "        sum += 1\n",
    "      else:\n",
    "        # print(f'Failed again for {new_line}.')\n",
    "        dummy = 0\n",
    "\n",
    "print()\n",
    "print()        \n",
    "print(f'The number of safe lines is {sum}.')"
   ]
  },
  {
   "cell_type": "code",
   "execution_count": null,
   "metadata": {},
   "outputs": [],
   "source": []
  },
  {
   "cell_type": "markdown",
   "metadata": {},
   "source": [
    "# Day 3 Part 1"
   ]
  },
  {
   "cell_type": "code",
   "execution_count": null,
   "metadata": {},
   "outputs": [],
   "source": [
    "\n",
    "# open data file and store it in a list\n",
    "# Read the data in from the file\n",
    "def get_data(file_name):\n",
    "  global data \n",
    "  with open(f\"data/{file_name}\", \"r\") as txt_file:\n",
    "    temp = txt_file.readlines()\n",
    "    temp.append('\\n') # this is to make sure the last line is read if there is no newline at the end of the file\n",
    "    data = []\n",
    "    for line in temp:\n",
    "      data.append(line.strip('\\n'))\n",
    "    # if the last line is empty, remove it\n",
    "    if data[-1] == '':\n",
    "      data.pop()\n",
    "  "
   ]
  },
  {
   "cell_type": "code",
   "execution_count": null,
   "metadata": {},
   "outputs": [],
   "source": [
    "import re\n",
    "\n",
    "get_data(\"day3.txt\") #note the main file comes in 6 lines of data, so we need to read it in as a single string\n",
    "\n",
    "the_long_string = ''\n",
    "for i,line in enumerate(data):\n",
    "  the_long_string +=line"
   ]
  },
  {
   "cell_type": "code",
   "execution_count": null,
   "metadata": {},
   "outputs": [],
   "source": [
    "the_long_string"
   ]
  },
  {
   "cell_type": "code",
   "execution_count": null,
   "metadata": {},
   "outputs": [],
   "source": [
    "# find all the numbers in the string that match the pattern\n",
    "# using regex library\n",
    "# the pattern is mul(number, number)\n",
    "matches = re.findall(r'mul\\((\\d{1,3}),(\\d{1,3})\\)', the_long_string)\n",
    "\n",
    "sum = 0\n",
    "for match in matches:\n",
    "  sum += int(match[0]) * int(match[1])\n",
    "\n",
    "print(f'The sum of the multiplication is {sum} or {sum:,.0f} in a formatted form.')\n",
    "\n",
    "  "
   ]
  },
  {
   "cell_type": "code",
   "execution_count": null,
   "metadata": {},
   "outputs": [],
   "source": [
    "matches = re.findall(r'mul\\((\\d+),(\\d+)\\)', the_long_string)\n"
   ]
  },
  {
   "cell_type": "code",
   "execution_count": null,
   "metadata": {},
   "outputs": [],
   "source": [
    "matches"
   ]
  },
  {
   "cell_type": "code",
   "execution_count": null,
   "metadata": {},
   "outputs": [],
   "source": []
  },
  {
   "cell_type": "markdown",
   "metadata": {},
   "source": [
    "# Day 3 Part 2"
   ]
  },
  {
   "cell_type": "code",
   "execution_count": null,
   "metadata": {},
   "outputs": [],
   "source": [
    "\n",
    "matches = re.findall(r\"mul\\((\\d{1,3}),(\\d{1,3})\\)|(do)\\(\\)|(don't)\\(\\)\", the_long_string)\n",
    "sum = 0\n",
    "enabled = True\n",
    "for match in matches:\n",
    "  if enabled and match[0] != \"\" and match[1] != \"\":\n",
    "    sum += int(match[0]) * int(match[1])\n",
    "  else:\n",
    "    if match[2] == \"do\":\n",
    "      enabled = True\n",
    "    else:\n",
    "      enabled = False             \n",
    "  \n",
    "print(f'The sum of the multiplication is {sum} or {sum:,.0f} in a formatted form.')\n"
   ]
  },
  {
   "cell_type": "code",
   "execution_count": null,
   "metadata": {},
   "outputs": [],
   "source": [
    "matches"
   ]
  },
  {
   "cell_type": "markdown",
   "metadata": {},
   "source": [
    "# Day 4 Part 1"
   ]
  },
  {
   "cell_type": "code",
   "execution_count": null,
   "metadata": {},
   "outputs": [],
   "source": [
    "\n",
    "# open data file and store it in a list\n",
    "# Read the data in from the file\n",
    "def get_data(file_name):\n",
    "  global data \n",
    "  with open(f\"data/{file_name}\", \"r\") as txt_file:\n",
    "    temp = txt_file.readlines()\n",
    "    temp.append('\\n') # this is to make sure the last line is read if there is no newline at the end of the file\n",
    "    data = []\n",
    "    for line in temp:\n",
    "      data.append(line.strip('\\n'))\n",
    "    # if the last line is empty, remove it\n",
    "    if data[-1] == '':\n",
    "      data.pop()\n",
    "  "
   ]
  },
  {
   "cell_type": "code",
   "execution_count": null,
   "metadata": {},
   "outputs": [],
   "source": [
    "get_data(\"day4_real.txt\")\n",
    "\n",
    "# convert the list of strings into a 2D array\n",
    "import numpy as np\n",
    "array = np.array([list(l) for l in data])"
   ]
  },
  {
   "cell_type": "code",
   "execution_count": null,
   "metadata": {},
   "outputs": [],
   "source": [
    "# this is the original list of strings from the input file\n",
    "data"
   ]
  },
  {
   "cell_type": "code",
   "execution_count": null,
   "metadata": {},
   "outputs": [],
   "source": [
    "print(f\"There is {len(data)} lines of data in the file.\")\n",
    "print(f\"There are {len(data[0])} characters in each line.\")\n"
   ]
  },
  {
   "cell_type": "code",
   "execution_count": null,
   "metadata": {},
   "outputs": [],
   "source": [
    "# This is how I can convert a string into a list of its characters\n",
    "list(data[0])"
   ]
  },
  {
   "cell_type": "code",
   "execution_count": null,
   "metadata": {},
   "outputs": [],
   "source": [
    "print(array)"
   ]
  },
  {
   "cell_type": "code",
   "execution_count": null,
   "metadata": {},
   "outputs": [],
   "source": []
  },
  {
   "cell_type": "code",
   "execution_count": null,
   "metadata": {},
   "outputs": [],
   "source": [
    "# Seearch for the string XMAS in the string and return an integer for how many times it appears\n",
    "\n",
    "def check(string):\n",
    "  # Receive a string which can be a row or a column\n",
    "  if len(string) > 3: # if the string is less than 4 characters, it is impossible to have XMAS in it\n",
    "    count = 0\n",
    "    # go through the string and check if the next 4 characters are XMAS\n",
    "    for i in range(0, len(string)-3):\n",
    "      if list(string[i:i+4]) == ['X','M','A','S']:\n",
    "        count += 1\n",
    "    # go through the string and check if the next 4 characters are SAMX (xmas in reverse)\n",
    "    for i in range(0, len(string)-3): \n",
    "      if list(string[i:i+4]) == ['S','A','M','X']:\n",
    "        count += 1\n",
    "  else:\n",
    "    count = 0\n",
    "\n",
    "  return count\n",
    "\n",
    "\n",
    "super_sum=0\n",
    "# Check the horizontal count\n",
    "for i in range(0, len(array)):\n",
    "  super_sum += check(array[i])\n",
    "\n",
    "# Check the vertical count\n",
    "for i in range(0, len(array[0])):\n",
    "  super_sum += check(array[:,i])\n",
    "\n",
    "# Check the diagonal count\n",
    "for i in range(0, len(array[0])):\n",
    "  if i == 0: # if the diagonal is the main diagonal we should only check it once\n",
    "    super_sum += check(np.diag(array))\n",
    "    super_sum += check(np.diag(np.fliplr(array)))\n",
    "  else:\n",
    "    super_sum += check(np.diag(array, k=i))\n",
    "    super_sum += check(np.diag(array, k=-i))\n",
    "    super_sum += check(np.diag(np.fliplr(array), k=i))\n",
    "    super_sum += check(np.diag(np.fliplr(array), k=-i))\n",
    "  \n",
    "\n",
    "print(f\"There is a total of {super_sum} XMAS in the data.\")"
   ]
  },
  {
   "cell_type": "markdown",
   "metadata": {},
   "source": [
    "# Day 4 Part 2"
   ]
  },
  {
   "cell_type": "code",
   "execution_count": null,
   "metadata": {},
   "outputs": [],
   "source": [
    "# The possible combinations of XMAS are\n",
    "# M.S   M.M\n",
    "# .A.   .A.\n",
    "# M.S   S.S\n",
    "\n",
    "# S.M   S.S\n",
    "# .A.   .A.\n",
    "# S.M   M.M\n",
    "\n"
   ]
  },
  {
   "cell_type": "code",
   "execution_count": null,
   "metadata": {},
   "outputs": [],
   "source": [
    "# Go through the entire array and check if the XMAS pattern is present\n",
    "RED = \"\\033[31m\"\n",
    "RESET = \"\\033[0m\"\n",
    "\n",
    "display_array = array.copy()\n",
    "\n",
    "def check_for_pattern(line,column):\n",
    "  # check if the XMAS pattern is present around that location\n",
    "  # build a string from that location with the 5 letters around it\n",
    "  string = ''\n",
    "  string += array[line][column]\n",
    "  string += array[line][column+2]\n",
    "  string += array[line+1][column+1]\n",
    "  string += array[line+2][column]\n",
    "  string += array[line+2][column+2]\n",
    "\n",
    "  # check if the string is a pattern of MAS\n",
    "  if string == 'MSAMS' or string == 'MMASS' or string == 'SMASM' or string == 'SSAMM':\n",
    "    return True\n",
    "  else:\n",
    "    return False\n",
    "\n",
    "def print_array(array):\n",
    "  global display_array\n",
    "  for l in range(0,len(array)):\n",
    "    for c in range(0,len(array[l])):\n",
    "      if display_array[l][c] == 1:\n",
    "        print(f'{RED}{array[l][c]}{RESET}',end=' ')\n",
    "      else:\n",
    "        print(array[l][c],end=' ')\n",
    "    print()\n",
    "\n",
    "\n",
    "\n",
    "sum=0\n",
    "for line_ref in range(0, len(array)-2):\n",
    "  for column in range(0, len(array[line_ref])-2):\n",
    "    if check_for_pattern(line_ref,column):\n",
    "      sum += 1\n",
    "      display_array[line_ref][column] = 1\n",
    "      display_array[line_ref][column+2] = 1\n",
    "      display_array[line_ref+1][column+1] = 1\n",
    "      display_array[line_ref+2][column] = 1\n",
    "      display_array[line_ref+2][column+2] = 1\n",
    "      #print(f'{RED}{array[line_ref][column]}{RESET}',end=' ')\n",
    "    else:\n",
    "      dummy = 0\n",
    "      #print(f'{array[line_ref][column]}',end=' ')\n",
    "  #print()\n",
    "\n",
    "print_array(array)\n",
    "print(f'The number of X-MAS patterns is {sum}.')"
   ]
  },
  {
   "cell_type": "code",
   "execution_count": null,
   "metadata": {},
   "outputs": [],
   "source": [
    "print(array)"
   ]
  },
  {
   "cell_type": "markdown",
   "metadata": {},
   "source": [
    "# Day 5 Part one"
   ]
  },
  {
   "cell_type": "code",
   "execution_count": null,
   "metadata": {},
   "outputs": [],
   "source": [
    "# open data file and store it in a list\n",
    "# Read the data in from the file\n",
    "def get_data(file_name):\n",
    "  global data \n",
    "  with open(f\"data/{file_name}\", \"r\") as txt_file:\n",
    "    temp = txt_file.readlines()\n",
    "    temp.append('\\n') # this is to make sure the last line is read if there is no newline at the end of the file\n",
    "    data = []\n",
    "    for line in temp:\n",
    "      data.append(line.strip('\\n'))\n",
    "    # if the last line is empty, remove it\n",
    "    if data[-1] == '':\n",
    "      data.pop()"
   ]
  },
  {
   "cell_type": "code",
   "execution_count": null,
   "metadata": {},
   "outputs": [],
   "source": [
    "get_data(\"day5.txt\")\n"
   ]
  },
  {
   "cell_type": "code",
   "execution_count": null,
   "metadata": {},
   "outputs": [],
   "source": [
    "index = data.index('')\n",
    "rules = data[:index]\n",
    "updates = data[index+1:]\n",
    "\n"
   ]
  },
  {
   "cell_type": "code",
   "execution_count": null,
   "metadata": {},
   "outputs": [],
   "source": [
    "rules"
   ]
  },
  {
   "cell_type": "code",
   "execution_count": null,
   "metadata": {},
   "outputs": [],
   "source": [
    "new_rules = []\n",
    "for i,rule in enumerate(rules):\n",
    "  left,right = rule.split('|')\n",
    "  print(f'{i+1}: {left} -> {right}')\n",
    "  if int(left) > int(right):\n",
    "    new_rules.append(f'{right}|{left}')\n",
    "  else:\n",
    "    new_rules.append(rule)\n",
    "\n",
    "new_rules"
   ]
  },
  {
   "cell_type": "code",
   "execution_count": null,
   "metadata": {},
   "outputs": [],
   "source": [
    "updates"
   ]
  },
  {
   "cell_type": "code",
   "execution_count": null,
   "metadata": {},
   "outputs": [],
   "source": [
    "test_this = updates[0].split(',')\n",
    "for i,item in enumerate(test_this):\n",
    "  for j in range(i+1,len(test_this)):\n",
    "    test_pattern = f'{test_this[i]}|{test_this[j]}'\n",
    "    print(f'{i} {j} {test_this[i]} {test_this[j]}')"
   ]
  },
  {
   "cell_type": "code",
   "execution_count": null,
   "metadata": {},
   "outputs": [],
   "source": [
    "test_this"
   ]
  },
  {
   "cell_type": "code",
   "execution_count": null,
   "metadata": {},
   "outputs": [],
   "source": []
  },
  {
   "cell_type": "markdown",
   "metadata": {},
   "source": [
    "# Day 6 Part 1"
   ]
  },
  {
   "cell_type": "code",
   "execution_count": null,
   "metadata": {},
   "outputs": [],
   "source": [
    "# open data file and store it in a list\n",
    "# Read the data in from the file\n",
    "def get_data(file_name):\n",
    "  global data \n",
    "  with open(f\"data/{file_name}\", \"r\") as txt_file:\n",
    "    temp = txt_file.readlines()\n",
    "    temp.append('\\n') # this is to make sure the last line is read if there is no newline at the end of the file\n",
    "    data = []\n",
    "    for line in temp:\n",
    "      data.append(line.strip('\\n'))\n",
    "    # if the last line is empty, remove it\n",
    "    if data[-1] == '':\n",
    "      data.pop()"
   ]
  },
  {
   "cell_type": "code",
   "execution_count": null,
   "metadata": {},
   "outputs": [],
   "source": [
    "get_data(\"day6_real.txt\")"
   ]
  },
  {
   "cell_type": "code",
   "execution_count": null,
   "metadata": {},
   "outputs": [],
   "source": [
    "# Convert data from a list of strings to a list of characters\n",
    "for i in range(0, len(data)):\n",
    "  data[i] = list(data[i])\n",
    "\n",
    "map_width = len(data[0])\n",
    "map_height = len(data)\n",
    "print(f'The map is {map_width} wide and {map_height} tall.')"
   ]
  },
  {
   "cell_type": "code",
   "execution_count": null,
   "metadata": {},
   "outputs": [],
   "source": [
    "\n",
    "get_data(\"day6_real.txt\")\n",
    "\n",
    "# Convert data from a list of strings to a list of characters\n",
    "for i in range(0, len(data)):\n",
    "  data[i] = list(data[i])\n",
    "\n",
    "map_width = len(data[0])\n",
    "map_height = len(data)\n",
    "print(f'The map is {map_width} wide and {map_height} tall.')"
   ]
  },
  {
   "cell_type": "code",
   "execution_count": null,
   "metadata": {},
   "outputs": [],
   "source": [
    "data"
   ]
  },
  {
   "cell_type": "code",
   "execution_count": null,
   "metadata": {},
   "outputs": [],
   "source": [
    "# open data file and store it in a list\n",
    "# Read the data in from the file\n",
    "def get_data(file_name):\n",
    "  global data \n",
    "  with open(f\"data/{file_name}\", \"r\") as txt_file:\n",
    "    temp = txt_file.readlines()\n",
    "    temp.append('\\n') # this is to make sure the last line is read if there is no newline at the end of the file\n",
    "    data = []\n",
    "    for line in temp:\n",
    "      data.append(line.strip('\\n'))\n",
    "    # if the last line is empty, remove it\n",
    "    if data[-1] == '':\n",
    "      data.pop()\n",
    "\n",
    "\n",
    "def find_guard(data):\n",
    "  # find the guard\n",
    "  for i,line in enumerate(data):\n",
    "    if '^' in line:\n",
    "      column_temp = line.index('^')\n",
    "      line_temp = i \n",
    "      break\n",
    "  \n",
    "  return line_temp, column_temp\n",
    "\n",
    "def change_dir(direction):\n",
    "  if direction == 'N':\n",
    "    return 'E'\n",
    "  if direction == 'E':\n",
    "    return 'S'\n",
    "  if direction == 'S':\n",
    "    return 'W'\n",
    "  if direction == 'W':\n",
    "    return 'N'\n",
    "\n",
    "def mark_the_spot(data, line, column):\n",
    "  data[line][column] = 'X'\n",
    "  return data\n",
    "\n",
    "def show_me(data):\n",
    "  for i in range(len(data)):\n",
    "    for j in range(len(data[i])):\n",
    "      print(f\"{data[i][j]}\", end = \" \")\n",
    "    print()\n",
    "\n",
    "\n",
    "def run_once(data,current_direction,check_line, check_col,cur_line,cur_col):\n",
    "  if current_direction == 'N':\n",
    "    check_line = cur_line - 1\n",
    "  if current_direction == 'E':\n",
    "    check_col = cur_col + 1\n",
    "  if current_direction == 'S':\n",
    "    check_line = cur_line + 1\n",
    "  if current_direction == 'W':\n",
    "    check_col = cur_col - 1\n",
    "  \n",
    "  if data[check_line][check_col] == '#':\n",
    "    current_direction = change_dir(current_direction)\n",
    "    check_line = cur_line\n",
    "    check_col = cur_col\n",
    "    \n",
    "  else:\n",
    "    cur_line = check_line\n",
    "    cur_col = check_col\n",
    "    mark_the_spot(data, cur_line, cur_col)\n",
    "\n",
    "  # show_me(data)\n",
    "  return(data,current_direction,check_line, check_col,cur_line,cur_col)\n",
    "\n",
    "\n",
    "def simulate_guard(data, current_direction, cur_line, cur_col):\n",
    "    visited_states = set()\n",
    "    check_line, check_col = cur_line, cur_col\n",
    "\n",
    "    while True:\n",
    "        # Record current state (position + direction)\n",
    "        state = (cur_line, cur_col, current_direction)\n",
    "        if state in visited_states:\n",
    "            return True  # Loop detected\n",
    "        visited_states.add(state)\n",
    "\n",
    "        # Simulate one step\n",
    "        data, current_direction, check_line, check_col, cur_line, cur_col = run_once(\n",
    "            data, current_direction, check_line, check_col, cur_line, cur_col\n",
    "        )\n",
    "\n",
    "        # Check if the guard is out of bounds\n",
    "        if cur_line == 0 or cur_line == map_height - 1 or cur_col == 0 or cur_col == map_width - 1:\n",
    "            return False  # No loop; guard exited the field\n",
    "\n",
    "\n",
    "def part_two(data):\n",
    "    # Get map dimensions and guard's initial position\n",
    "    line_ref, column_ref = find_guard(data)\n",
    "    map_width = len(data[0])\n",
    "    map_height = len(data)\n",
    "\n",
    "    # Find all valid positions for placing obstacles\n",
    "    possible_positions = [\n",
    "        (i, j)\n",
    "        for i in range(map_height)\n",
    "        for j in range(map_width)\n",
    "        if data[i][j] == '.' and (i, j) != (line_ref, column_ref)\n",
    "    ]\n",
    "\n",
    "    valid_obstacle_positions = 0\n",
    "\n",
    "    # Check each possible obstacle position\n",
    "    for pos in possible_positions:\n",
    "        # Create a copy of the map\n",
    "        map_copy = [row[:] for row in data]\n",
    "        map_copy[pos[0]][pos[1]] = '#'  # Place the obstacle\n",
    "\n",
    "        # Simulate the guard's patrol\n",
    "        if simulate_guard(map_copy, 'N', line_ref, column_ref):\n",
    "            valid_obstacle_positions += 1\n",
    "\n",
    "    return valid_obstacle_positions\n",
    "\n",
    "\n",
    "\n",
    "line_ref, column_ref = find_guard(data)\n",
    "mark_the_spot(data, line_ref, column_ref)\n",
    "# show_me(data)\n",
    "print()\n",
    "\n",
    "not_out_of_field = True\n",
    "current_direction = 'N'\n",
    "cur_line = line_ref\n",
    "cur_col= column_ref\n",
    "check_col = cur_col\n",
    "check_line = cur_line\n",
    "\n",
    "while not_out_of_field:\n",
    "  data,current_direction,check_line, check_col,cur_line,cur_col = run_once(data,current_direction,check_line, check_col,cur_line,cur_col)\n",
    "  if cur_line == 0 or cur_line == map_height-1 or cur_col == 0 or cur_col == map_width-1:\n",
    "    not_out_of_field = False\n",
    "    print('Out of field.')\n",
    "    break\n",
    "  # print()\n",
    "\n",
    "# Go through the data and count the number of Xs\n",
    "print(\"Calculating the visited spots.\")\n",
    "sum = 0\n",
    "for i in range(0, len(data)):\n",
    "  for j in range(0, len(data[i])):\n",
    "    if data[i][j] == 'X':\n",
    "      sum += 1\n",
    "\n",
    "print(f'The number of visited spots is {sum}.')\n",
    "# show_me(data)\n"
   ]
  },
  {
   "cell_type": "markdown",
   "metadata": {},
   "source": [
    "# Day 6 Part 2"
   ]
  },
  {
   "cell_type": "code",
   "execution_count": null,
   "metadata": {},
   "outputs": [],
   "source": []
  },
  {
   "cell_type": "code",
   "execution_count": null,
   "metadata": {},
   "outputs": [],
   "source": [
    "get_data(\"day6_real.txt\")\n",
    "# Convert data from a list of strings to a list of characters\n",
    "for i in range(0, len(data)):\n",
    "  data[i] = list(data[i])\n",
    "\n",
    "map_width = len(data[0])\n",
    "map_height = len(data)\n",
    "print(f'The map is {map_width} wide and {map_height} tall.')\n",
    "# Run Part 2\n",
    "result = part_two(data)\n",
    "print(f\"The number of valid positions for the obstacle is {result}.\")\n",
    "\n"
   ]
  },
  {
   "cell_type": "code",
   "execution_count": null,
   "metadata": {},
   "outputs": [],
   "source": []
  },
  {
   "cell_type": "markdown",
   "metadata": {},
   "source": [
    "# Day 7 Part 1"
   ]
  },
  {
   "cell_type": "code",
   "execution_count": 2,
   "metadata": {},
   "outputs": [],
   "source": [
    "# open data file and store it in a list\n",
    "# Read the data in from the file\n",
    "def get_data(file_name):\n",
    "  global data \n",
    "  with open(f\"data/{file_name}\", \"r\") as txt_file:\n",
    "    temp = txt_file.readlines()\n",
    "    temp.append('\\n') # this is to make sure the last line is read if there is no newline at the end of the file\n",
    "    data = []\n",
    "    for line in temp:\n",
    "      data.append(line.strip('\\n'))\n",
    "    # if the last line is empty, remove it\n",
    "    if data[-1] == '':\n",
    "      data.pop()"
   ]
  },
  {
   "cell_type": "code",
   "execution_count": 3,
   "metadata": {},
   "outputs": [],
   "source": [
    "get_data(\"day7.txt\")"
   ]
  },
  {
   "cell_type": "code",
   "execution_count": null,
   "metadata": {},
   "outputs": [],
   "source": [
    "data"
   ]
  },
  {
   "cell_type": "code",
   "execution_count": null,
   "metadata": {},
   "outputs": [],
   "source": [
    "\n",
    "answer=[]\n",
    "elements = []\n",
    "operators = ['+', '*']\n",
    "\n",
    "# Go through each line in the data and split it into two lists\n",
    "# the first list will have the answer and the second list will have the elements\n",
    "for i in range(0, len(data)):\n",
    "  temp = data[i].split(':')[0]\n",
    "  temp2 = data[i].split(': ')[1].split(' ')\n",
    "  answer.append(temp)\n",
    "  elements.append(temp2)\n",
    "\n",
    "# print(answer)\n",
    "# print(elements)\n",
    "\n",
    "# create a function that will test all the possible combinations of operators on the elements\n",
    "def create_suite(answer, elements):\n",
    "  # create a list of all the possible combinations of operators\n",
    "  suite =[]\n",
    "  for i in range(0, len(operators)**(len(elements)-1)):\n",
    "    temp = []\n",
    "    for j in range(0, len(elements)-1):\n",
    "      temp.append(operators[(i//(len(operators)**j))%len(operators)])\n",
    "    \n",
    "    suite.append(temp)\n",
    "    # print(temp)\n",
    "  return suite\n",
    "\n",
    "\n",
    "def calculate(answer, elements, operators):\n",
    "  # calculate the answer based on the elements and the operators\n",
    "  possible_answers = []\n",
    "  # print(f'Checking for an answer of {answer} with elements {elements} and operators {operators}.')\n",
    "  for i in range(0,len(operators)): # go through each combination of operators\n",
    "    # print(f'Checking for the combination {operators[i]}.')\n",
    "    total=int(elements[0]) # start with the first element\n",
    "    for j in range(0,len(operators[i])): # go through each operator in the combination\n",
    "      # print(f'Checking for the operator {operators[i][j]}.')\n",
    "      \n",
    "      \n",
    "      if operators[i][j] == '+':\n",
    "        total += int(elements[j+1])\n",
    "      else:\n",
    "        total *= int(elements[j+1])\n",
    "\n",
    "    possible_answers.append(total)\n",
    "    if int(answer) in possible_answers:\n",
    "      possible= True\n",
    "    else:\n",
    "      possible = False\n",
    "  return int(answer), possible_answers, possible\n",
    "\n",
    "super_sum=0\n",
    "for test_id in range(0,len(answer)):\n",
    "  get_values = calculate(answer[test_id], elements[test_id], create_suite(answer[test_id], elements[test_id]))\n",
    "  if get_values[2]:\n",
    "    super_sum += get_values[0]\n",
    "  # print(get_values)\n",
    "\n",
    "print(f'The number of possible answers is {super_sum}.')\n"
   ]
  },
  {
   "cell_type": "markdown",
   "metadata": {},
   "source": [
    "# Day 7 Part 2"
   ]
  },
  {
   "cell_type": "code",
   "execution_count": null,
   "metadata": {},
   "outputs": [],
   "source": [
    "\n",
    "answer=[]\n",
    "elements = []\n",
    "operators = ['+', '*', '|']\n",
    "\n",
    "# Go through each line in the data and split it into two lists\n",
    "# the first list will have the answer and the second list will have the elements\n",
    "for i in range(0, len(data)):\n",
    "  temp = data[i].split(':')[0]\n",
    "  temp2 = data[i].split(': ')[1].split(' ')\n",
    "  answer.append(temp)\n",
    "  elements.append(temp2)\n",
    "\n",
    "# print(answer)\n",
    "# print(elements)\n",
    "\n",
    "# create a function that will test all the possible combinations of operators on the elements\n",
    "def create_suite(answer, elements):\n",
    "  # create a list of all the possible combinations of operators\n",
    "  suite =[]\n",
    "  for i in range(0, len(operators)**(len(elements)-1)):\n",
    "    temp = []\n",
    "    for j in range(0, len(elements)-1):\n",
    "      temp.append(operators[(i//(len(operators)**j))%len(operators)])\n",
    "    \n",
    "    suite.append(temp)\n",
    "    # print(temp)\n",
    "  return suite\n",
    "\n",
    "\n",
    "def calculate(answer, elements, operators):\n",
    "  # calculate the answer based on the elements and the operators\n",
    "  possible_answers = []\n",
    "  # print(f'Checking for an answer of {answer} with elements {elements} and operators {operators}.')\n",
    "  for i in range(0,len(operators)): # go through each combination of operators\n",
    "    # print(f'Checking for the combination {operators[i]}.')\n",
    "    total=int(elements[0]) # start with the first element\n",
    "    for j in range(0,len(operators[i])): # go through each operator in the combination\n",
    "      # print(f'Checking for the operator {operators[i][j]}.')\n",
    "      \n",
    "      \n",
    "      if operators[i][j] == '+':\n",
    "        total += int(elements[j+1])\n",
    "      elif operators[i][j] == '*':\n",
    "        total *= int(elements[j+1])\n",
    "      else:\n",
    "\n",
    "\n",
    "    possible_answers.append(total)\n",
    "    if int(answer) in possible_answers:\n",
    "      possible= True\n",
    "    else:\n",
    "      possible = False\n",
    "  return int(answer), possible_answers, possible\n",
    "\n",
    "def calculate_part2(answer, elements, suite_of_operators):\n",
    "  possible_answers = []\n",
    "  for i in range(0,len(suite_of_operators)): # go through each combination of operators\n",
    "    part_1 = elements[i]\n",
    "    part_2 = elements[i+1]\n",
    "    if suite_of_operators[i] == '+':\n",
    "      total = int(part_1) + int(part_2)\n",
    "    elif suite_of_operators[i] == '*':\n",
    "      total = int(part_1) * int(part_2)\n",
    "    else:\n",
    "      \n",
    "  \n",
    "\n",
    "\n",
    "\n",
    "\n",
    "super_sum=0\n",
    "test_id = 0\n",
    "create_suite(answer[test_id], elements[test_id])\n",
    "\n",
    "\n"
   ]
  },
  {
   "cell_type": "code",
   "execution_count": null,
   "metadata": {},
   "outputs": [],
   "source": [
    "from itertools import product\n",
    "\n",
    "with open(\"data/day7_real.txt\") as fin:\n",
    "    lines = fin.read().strip().split(\"\\n\")\n",
    "\n",
    "ans = 0\n",
    "for i, line in enumerate(lines):\n",
    "    parts = line.split()\n",
    "    value = int(parts[0][:-1])\n",
    "    nums = list(map(int, parts[1:]))\n",
    "\n",
    "    def test(combo):\n",
    "        ans = nums[0]\n",
    "        for i in range(1, len(nums)):\n",
    "            if combo[i-1] == \"+\":\n",
    "                ans += nums[i]\n",
    "            elif combo[i-1] == \"|\":\n",
    "                ans = int(f\"{ans}{nums[i]}\")\n",
    "            else:\n",
    "                ans *= nums[i]\n",
    "        return ans\n",
    "\n",
    "    for combo in product(\"*+|\", repeat=len(nums)-1):\n",
    "        if test(combo) == value:\n",
    "            print(f\"[{i:02}/{len(lines)}] WORKS\", combo, value)\n",
    "            ans += value\n",
    "            break\n",
    "\n",
    "\n",
    "print(ans)"
   ]
  },
  {
   "cell_type": "code",
   "execution_count": null,
   "metadata": {},
   "outputs": [],
   "source": []
  },
  {
   "cell_type": "markdown",
   "metadata": {},
   "source": [
    "# Day 8 Part 1"
   ]
  },
  {
   "cell_type": "code",
   "execution_count": 12,
   "metadata": {},
   "outputs": [],
   "source": [
    "# open data file and store it in a list\n",
    "# Read the data in from the file\n",
    "def get_data(file_name):\n",
    "  global data \n",
    "  with open(f\"data/{file_name}\", \"r\") as txt_file:\n",
    "    temp = txt_file.readlines()\n",
    "    temp.append('\\n') # this is to make sure the last line is read if there is no newline at the end of the file\n",
    "    data = []\n",
    "    for line in temp:\n",
    "      data.append(line.strip('\\n'))\n",
    "    # if the last line is empty, remove it\n",
    "    if data[-1] == '':\n",
    "      data.pop()"
   ]
  },
  {
   "cell_type": "code",
   "execution_count": 13,
   "metadata": {},
   "outputs": [],
   "source": [
    "get_data(\"day8.txt\")"
   ]
  },
  {
   "cell_type": "code",
   "execution_count": null,
   "metadata": {},
   "outputs": [],
   "source": [
    "data"
   ]
  },
  {
   "cell_type": "markdown",
   "metadata": {},
   "source": [
    "# Day 9 Part 1"
   ]
  },
  {
   "cell_type": "code",
   "execution_count": 125,
   "metadata": {},
   "outputs": [],
   "source": [
    "# open data file and store it in a list\n",
    "# Read the data in from the file\n",
    "def get_data(file_name):\n",
    "  global data \n",
    "  with open(f\"data/{file_name}\", \"r\") as txt_file:\n",
    "    temp = txt_file.readlines()\n",
    "    temp.append('\\n') # this is to make sure the last line is read if there is no newline at the end of the file\n",
    "    data = []\n",
    "    for line in temp:\n",
    "      data.append(line.strip('\\n'))\n",
    "    # if the last line is empty, remove it\n",
    "    if data[-1] == '':\n",
    "      data.pop()"
   ]
  },
  {
   "cell_type": "code",
   "execution_count": 126,
   "metadata": {},
   "outputs": [],
   "source": [
    "get_data(\"day9_real.txt\")\n",
    "# convert the string into an array of data\n",
    "temp = data[0]\n",
    "the_map=[]\n",
    "for i in range(0,len(temp)):\n",
    "  the_map.append(temp[i])\n",
    "  "
   ]
  },
  {
   "cell_type": "code",
   "execution_count": 139,
   "metadata": {},
   "outputs": [],
   "source": [
    "def is_odd(number):\n",
    "    return number % 2 != 0\n",
    "\n",
    "# create the disk\n",
    "def create_disk(the_map):\n",
    "  index_ref = 0\n",
    "  the_disk = []\n",
    "\n",
    "  for i in range(0, len(the_map)):\n",
    "    if is_odd(i):\n",
    "      for j in range(0, int(the_map[i])):\n",
    "        the_disk.append('.')\n",
    "    else:\n",
    "      for j in range(0, int(the_map[i])):\n",
    "        the_disk.append(str(index_ref))\n",
    "      index_ref+=1\n",
    "\n",
    "  # print(the_disk)\n",
    "  return the_disk\n",
    "\n",
    "# apply drefag to the disk\n",
    "def defrag(the_disk):\n",
    "  first_free_slot = 0\n",
    "  while the_disk[first_free_slot] != '.':\n",
    "    first_free_slot += 1\n",
    "\n",
    "  pos_ref = len(the_disk)-1\n",
    "  while the_disk[pos_ref] == '.':\n",
    "    pos_ref -= 1\n",
    "\n",
    "  while first_free_slot < pos_ref:\n",
    "    if the_disk[first_free_slot] == '.':\n",
    "      the_disk[first_free_slot] = the_disk[pos_ref]\n",
    "      the_disk[pos_ref] = '.'\n",
    "      while the_disk[pos_ref] == '.':\n",
    "        pos_ref -= 1\n",
    "    first_free_slot += 1\n",
    "\n",
    "  return the_disk\n",
    "\n",
    "def calc_check_sum(the_disk):\n",
    "  sum = 0\n",
    "  for i in range(0, len(the_disk)):\n",
    "    if the_disk[i] != '.':\n",
    "      sum += i* int(the_disk[i])\n",
    "    else:\n",
    "      break\n",
    "  return sum"
   ]
  },
  {
   "cell_type": "code",
   "execution_count": null,
   "metadata": {},
   "outputs": [],
   "source": [
    "the_disk = create_disk(the_map)\n",
    "# print(the_disk)\n",
    "d = defrag(the_disk)\n",
    "# print(d)\n",
    "print(f'The check sum is : {calc_check_sum(d)}')\n"
   ]
  },
  {
   "cell_type": "code",
   "execution_count": null,
   "metadata": {},
   "outputs": [],
   "source": []
  },
  {
   "cell_type": "markdown",
   "metadata": {},
   "source": [
    "# Day 9 Part 2 (too hard for me...)"
   ]
  },
  {
   "cell_type": "markdown",
   "metadata": {},
   "source": [
    "# Day 10 Part 1"
   ]
  },
  {
   "cell_type": "code",
   "execution_count": 261,
   "metadata": {},
   "outputs": [],
   "source": [
    "# open data file and store it in a list\n",
    "# Read the data in from the file\n",
    "def get_data(file_name):\n",
    "  global data \n",
    "  with open(f\"data/{file_name}\", \"r\") as txt_file:\n",
    "    temp = txt_file.readlines()\n",
    "    temp.append('\\n') # this is to make sure the last line is read if there is no newline at the end of the file\n",
    "    data = []\n",
    "    for line in temp:\n",
    "      data.append(line.strip('\\n'))\n",
    "    # if the last line is empty, remove it\n",
    "    if data[-1] == '':\n",
    "      data.pop()\n",
    "\n",
    "get_data(\"day10_real.txt\")"
   ]
  },
  {
   "cell_type": "code",
   "execution_count": null,
   "metadata": {},
   "outputs": [],
   "source": [
    "data"
   ]
  },
  {
   "cell_type": "code",
   "execution_count": null,
   "metadata": {},
   "outputs": [],
   "source": [
    "potential_dir =[[0,1],[1,0],[0,-1],[-1,0]]\n",
    "width = len(data[0])\n",
    "height = len(data)\n",
    "print(f'The map is {width} wide and {height} tall.')\n",
    "\n",
    "def grid_check(x,y):\n",
    "  global width, height\n",
    "  if (0<=x<width) and (0<=y<height):\n",
    "    return True\n",
    "  else:\n",
    "    return False\n"
   ]
  },
  {
   "cell_type": "code",
   "execution_count": 264,
   "metadata": {},
   "outputs": [],
   "source": [
    "def how_many_path(data, x,y):\n",
    "  count = 0\n",
    "  if data[y][x] != '0': # we need to start at a 0 to be valid\n",
    "    return -1\n",
    "  \n",
    "  stack = [(x,y)]\n",
    "  visited = set()\n",
    "\n",
    "  while len(stack) > 0:\n",
    "    current_x, current_y = stack.pop()\n",
    "    current = int(data[current_y][current_x])\n",
    "\n",
    "    if current == 9: # we arrived at the end, so we increase the count of paths\n",
    "      count += 1\n",
    "      visited.add((current_x, current_y))\n",
    "      continue\n",
    "\n",
    "    for dx,dy in potential_dir: # go through each potential direction\n",
    "      new_x = current_x + dx\n",
    "      new_y = current_y + dy\n",
    "\n",
    "      if not grid_check(new_x, new_y): # if the check is outside of the grid, we skip\n",
    "        continue\n",
    "\n",
    "      new_number = int(data[new_y][new_x])\n",
    "      if new_number != current + 1: # if the path is too steep we skip\n",
    "        continue\n",
    "      \n",
    "      stack.append((new_x,new_y))\n",
    "  \n",
    "  return len(visited)"
   ]
  },
  {
   "cell_type": "code",
   "execution_count": 267,
   "metadata": {},
   "outputs": [],
   "source": [
    "def how_many_path2(data, x,y):\n",
    "  count = 0\n",
    "  if data[y][x] != '0': # we need to start at a 0 to be valid\n",
    "    return -1\n",
    "  \n",
    "  stack = [(x,y)]\n",
    "  visited = set()\n",
    "\n",
    "  while len(stack) > 0:\n",
    "    current_x, current_y = stack.pop()\n",
    "    current = int(data[current_y][current_x])\n",
    "\n",
    "    if current == 9: # we arrived at the end, so we increase the count of paths\n",
    "      count += 1\n",
    "      visited.add((current_x, current_y))\n",
    "      continue\n",
    "\n",
    "    for dx,dy in potential_dir: # go through each potential direction\n",
    "      new_x = current_x + dx\n",
    "      new_y = current_y + dy\n",
    "\n",
    "      if not grid_check(new_x, new_y): # if the check is outside of the grid, we skip\n",
    "        continue\n",
    "\n",
    "      new_number = int(data[new_y][new_x])\n",
    "      if new_number != current + 1: # if the path is too steep we skip\n",
    "        continue\n",
    "      \n",
    "      stack.append((new_x,new_y))\n",
    "  \n",
    "  return count"
   ]
  },
  {
   "cell_type": "code",
   "execution_count": null,
   "metadata": {},
   "outputs": [],
   "source": [
    "how_many_path(data, 2,0)"
   ]
  },
  {
   "cell_type": "code",
   "execution_count": null,
   "metadata": {},
   "outputs": [],
   "source": [
    "# Do all the points of the grid and check the score\n",
    "total = 0\n",
    "trail_heads = 0\n",
    "paths = []\n",
    "for y in range(0, height):\n",
    "  for x in range(0, width):\n",
    "    paths = 0\n",
    "    paths= how_many_path(data, x,y)\n",
    "    if paths == -1:\n",
    "      dummy=0\n",
    "      # print(f'Postion column {x}, row {y} is not a valid starting point.')\n",
    "    else:\n",
    "      trail_heads += 1\n",
    "      print(f'The number of paths from column {x}, row {y} is {paths}.')\n",
    "      total += paths\n",
    "\n",
    "print()\n",
    "print(f'The total number of trail heads is {trail_heads}.')\n",
    "print()\n",
    "print(f'The total number of paths is {total}.')\n"
   ]
  },
  {
   "cell_type": "code",
   "execution_count": null,
   "metadata": {},
   "outputs": [],
   "source": [
    "# Do all the points of the grid and check the score\n",
    "total = 0\n",
    "trail_heads = 0\n",
    "paths = []\n",
    "for y in range(0, height):\n",
    "  for x in range(0, width):\n",
    "    paths = 0\n",
    "    paths= how_many_path2(data, x,y)\n",
    "    if paths == -1:\n",
    "      dummy=0\n",
    "      # print(f'Postion column {x}, row {y} is not a valid starting point.')\n",
    "    else:\n",
    "      trail_heads += 1\n",
    "      print(f'The number of paths from column {x}, row {y} is {paths}.')\n",
    "      total += paths\n",
    "\n",
    "print()\n",
    "print(f'The total number of trail heads is {trail_heads}.')\n",
    "print()\n",
    "print(f'The total number of paths is {total}.')\n"
   ]
  },
  {
   "cell_type": "markdown",
   "metadata": {},
   "source": [
    "# Day 11"
   ]
  },
  {
   "cell_type": "code",
   "execution_count": 6,
   "metadata": {},
   "outputs": [],
   "source": [
    "# open data file and store it in a list\n",
    "# Read the data in from the file\n",
    "def get_data(file_name):\n",
    "  global data \n",
    "  with open(f\"data/{file_name}\", \"r\") as txt_file:\n",
    "    temp = txt_file.readlines()\n",
    "    temp.append('\\n') # this is to make sure the last line is read if there is no newline at the end of the file\n",
    "    data = []\n",
    "    for line in temp:\n",
    "      data.append(line.strip('\\n'))\n",
    "    # if the last line is empty, remove it\n",
    "    if data[-1] == '':\n",
    "      data.pop()\n",
    "\n",
    "get_data(\"day11_real.txt\")"
   ]
  },
  {
   "cell_type": "code",
   "execution_count": 7,
   "metadata": {},
   "outputs": [
    {
     "data": {
      "text/plain": [
       "['6571 0 5851763 526746 23 69822 9 989']"
      ]
     },
     "execution_count": 7,
     "metadata": {},
     "output_type": "execute_result"
    }
   ],
   "source": [
    "data"
   ]
  },
  {
   "cell_type": "code",
   "execution_count": 8,
   "metadata": {},
   "outputs": [],
   "source": [
    "temp = data[0].split(' ')\n",
    "stones =[]\n",
    "for i in range(0, len(temp)):\n",
    "  stones.append(int(temp[i]))"
   ]
  },
  {
   "cell_type": "code",
   "execution_count": 9,
   "metadata": {},
   "outputs": [
    {
     "data": {
      "text/plain": [
       "[6571, 0, 5851763, 526746, 23, 69822, 9, 989]"
      ]
     },
     "execution_count": 9,
     "metadata": {},
     "output_type": "execute_result"
    }
   ],
   "source": [
    "stones"
   ]
  },
  {
   "cell_type": "code",
   "execution_count": 82,
   "metadata": {},
   "outputs": [],
   "source": [
    "\n",
    "def is_even(number):\n",
    "  return number % 2 == 0\n",
    "\n",
    "\n",
    "def do_a_blink(list_numbers):\n",
    "  new_list = [] # create a new list to store the new stones, because we cannot change the list in place\n",
    "  for i in range(0, len(list_numbers)):\n",
    "    stone = list_numbers[i]\n",
    "    # Replace stones 0 with stones 1\n",
    "    if stone == 0:\n",
    "      new_list.append(1)\n",
    "    else:\n",
    "      # check if number of digits of the stone is even\n",
    "      if is_even(len(str(stone))):\n",
    "        # split left and right\n",
    "        left = str(stone)[:len(str(stone))//2]\n",
    "        right = str(stone)[len(str(stone))//2:]\n",
    "        # convert to integers the left and right ignoring leading zeros\n",
    "        left = int(left)\n",
    "\n",
    "        right = int(right)\n",
    "        \n",
    "        # insert the left and right into the list\n",
    "        new_list.append(left)\n",
    "        new_list.append(right)\n",
    "        \n",
    "      else:\n",
    "        new_list.append(list_numbers[i] * 2024)\n",
    "\n",
    "  return new_list\n"
   ]
  },
  {
   "cell_type": "code",
   "execution_count": null,
   "metadata": {},
   "outputs": [],
   "source": [
    "how_many_blinks =75\n",
    "for i in range(0, how_many_blinks):\n",
    "  stones = do_a_blink(stones)\n",
    "  print(f'After {i+1} blinks there are {len(stones)} stones.')\n",
    "\n",
    "print(f'There is a total of {len(stones)} stones after {how_many_blinks} blinks.')\n"
   ]
  },
  {
   "cell_type": "markdown",
   "metadata": {},
   "source": [
    "# Day 11 Part 2 (I could not solve so found the below on internet)... I am still struggling to understand !!"
   ]
  },
  {
   "cell_type": "code",
   "execution_count": 10,
   "metadata": {},
   "outputs": [
    {
     "name": "stdout",
     "output_type": "stream",
     "text": [
      "242090118578155\n"
     ]
    }
   ],
   "source": [
    "\n",
    "\n",
    "from functools import cache\n",
    "\n",
    "@cache\n",
    "def count(stone, steps):\n",
    "    if steps == 0:\n",
    "        return 1\n",
    "    if stone == 0:\n",
    "        return count(1, steps - 1)\n",
    "    string = str(stone)\n",
    "    length = len(string)\n",
    "    if length % 2 == 0:\n",
    "        return count(int(string[:length // 2]), steps - 1) + count(int(string[length // 2:]), steps - 1)\n",
    "    return count(stone * 2024, steps - 1)\n",
    "\n",
    "print(sum(count(stone, 75) for stone in stones))\n"
   ]
  },
  {
   "cell_type": "markdown",
   "metadata": {},
   "source": [
    "# Day 12 Part 1"
   ]
  },
  {
   "cell_type": "code",
   "execution_count": null,
   "metadata": {},
   "outputs": [],
   "source": []
  },
  {
   "cell_type": "code",
   "execution_count": null,
   "metadata": {},
   "outputs": [],
   "source": []
  },
  {
   "cell_type": "markdown",
   "metadata": {},
   "source": [
    "# Day 13 - ARCADE MAchine"
   ]
  },
  {
   "cell_type": "markdown",
   "metadata": {},
   "source": []
  },
  {
   "cell_type": "markdown",
   "metadata": {},
   "source": [
    "# Day 14 - RESTROOM REDOUBT"
   ]
  },
  {
   "cell_type": "code",
   "execution_count": 1,
   "metadata": {},
   "outputs": [],
   "source": [
    "# open data file and store it in a list\n",
    "# Read the data in from the file\n",
    "def get_data(file_name):\n",
    "  global data \n",
    "  with open(f\"data/{file_name}\", \"r\") as txt_file:\n",
    "    temp = txt_file.readlines()\n",
    "    temp.append('\\n') # this is to make sure the last line is read if there is no newline at the end of the file\n",
    "    data = []\n",
    "    for line in temp:\n",
    "      data.append(line.strip('\\n'))\n",
    "    # if the last line is empty, remove it\n",
    "    if data[-1] == '':\n",
    "      data.pop()\n",
    "\n",
    "get_data(\"day14.txt\")"
   ]
  },
  {
   "cell_type": "code",
   "execution_count": 2,
   "metadata": {},
   "outputs": [
    {
     "data": {
      "text/plain": [
       "['p=0,4 v=3,-3',\n",
       " 'p=6,3 v=-1,-3',\n",
       " 'p=10,3 v=-1,2',\n",
       " 'p=2,0 v=2,-1',\n",
       " 'p=0,0 v=1,3',\n",
       " 'p=3,0 v=-2,-2',\n",
       " 'p=7,6 v=-1,-3',\n",
       " 'p=3,0 v=-1,-2',\n",
       " 'p=9,3 v=2,3',\n",
       " 'p=7,3 v=-1,2',\n",
       " 'p=2,4 v=2,-3',\n",
       " 'p=9,5 v=-3,-3']"
      ]
     },
     "execution_count": 2,
     "metadata": {},
     "output_type": "execute_result"
    }
   ],
   "source": [
    "data"
   ]
  },
  {
   "cell_type": "code",
   "execution_count": 6,
   "metadata": {},
   "outputs": [
    {
     "data": {
      "text/plain": [
       "['0,4',\n",
       " '6,3',\n",
       " '10,3',\n",
       " '2,0',\n",
       " '0,0',\n",
       " '3,0',\n",
       " '7,6',\n",
       " '3,0',\n",
       " '9,3',\n",
       " '7,3',\n",
       " '2,4',\n",
       " '9,5']"
      ]
     },
     "execution_count": 6,
     "metadata": {},
     "output_type": "execute_result"
    }
   ],
   "source": [
    "positions = []\n",
    "velocities = []\n",
    "for i in range(0, len(data)):\n",
    "  temp = data[i].split(' ')\n",
    "  positions.append(temp[0].split('=')[1])\n",
    "  velocities.append(temp[1].split('=')[1])\n",
    "\n",
    "positions\n",
    "\n",
    "  "
   ]
  },
  {
   "cell_type": "code",
   "execution_count": 11,
   "metadata": {},
   "outputs": [
    {
     "data": {
      "text/plain": [
       "['3,-3',\n",
       " '-1,-3',\n",
       " '-1,2',\n",
       " '2,-1',\n",
       " '1,3',\n",
       " '-2,-2',\n",
       " '-1,-3',\n",
       " '-1,-2',\n",
       " '2,3',\n",
       " '-1,2',\n",
       " '2,-3',\n",
       " '-3,-3']"
      ]
     },
     "execution_count": 11,
     "metadata": {},
     "output_type": "execute_result"
    }
   ],
   "source": [
    "velocities"
   ]
  },
  {
   "cell_type": "code",
   "execution_count": 12,
   "metadata": {},
   "outputs": [
    {
     "name": "stdout",
     "output_type": "stream",
     "text": [
      "The velocity is 3, -3.\n",
      "The position is 0, 4.\n"
     ]
    }
   ],
   "source": [
    "px,py = int(positions[0].split(',')[0]), int(positions[0].split(',')[1])\n",
    "vx, vy = int(velocities[0].split(',')[0]), int(velocities[0].split(',')[1])\n",
    "print(f'The velocity is {vx}, {vy}.')\n",
    "print(f'The position is {px}, {py}.')"
   ]
  },
  {
   "cell_type": "code",
   "execution_count": null,
   "metadata": {},
   "outputs": [],
   "source": [
    "grid_size_x = 11\n",
    "grid_size_y = 7\n"
   ]
  }
 ],
 "metadata": {
  "kernelspec": {
   "display_name": "Python 3",
   "language": "python",
   "name": "python3"
  },
  "language_info": {
   "codemirror_mode": {
    "name": "ipython",
    "version": 3
   },
   "file_extension": ".py",
   "mimetype": "text/x-python",
   "name": "python",
   "nbconvert_exporter": "python",
   "pygments_lexer": "ipython3",
   "version": "3.13.0"
  }
 },
 "nbformat": 4,
 "nbformat_minor": 2
}

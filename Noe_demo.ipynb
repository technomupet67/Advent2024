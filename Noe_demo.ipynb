{
 "cells": [
  {
   "cell_type": "code",
   "execution_count": 1,
   "metadata": {},
   "outputs": [
    {
     "name": "stdout",
     "output_type": "stream",
     "text": [
      "Noe Dehon, Hello World !\n",
      "Hello World !\n",
      "Hello Oli !\n"
     ]
    }
   ],
   "source": [
    "print(\"Noe Dehon, Hello World !\")\n",
    "\n",
    "print(\"Hello World !\")\n",
    "\n",
    "print(\"Hello Oli !\")\n",
    "\n"
   ]
  },
  {
   "cell_type": "markdown",
   "metadata": {},
   "source": [
    "# Day 1"
   ]
  },
  {
   "cell_type": "code",
   "execution_count": 16,
   "metadata": {},
   "outputs": [],
   "source": [
    "def multiply_me(the_table):\n",
    "\n",
    "  for i in range(1,11):\n",
    "    result = i * the_table\n",
    "    print(f\" The multiplication of {i} by {the_table} is {result}\")\n",
    "    \n",
    "\n"
   ]
  },
  {
   "cell_type": "code",
   "execution_count": 17,
   "metadata": {},
   "outputs": [
    {
     "name": "stdout",
     "output_type": "stream",
     "text": [
      " The multiplication of 1 by 12 is 12\n",
      " The multiplication of 2 by 12 is 24\n",
      " The multiplication of 3 by 12 is 36\n",
      " The multiplication of 4 by 12 is 48\n",
      " The multiplication of 5 by 12 is 60\n",
      " The multiplication of 6 by 12 is 72\n",
      " The multiplication of 7 by 12 is 84\n",
      " The multiplication of 8 by 12 is 96\n",
      " The multiplication of 9 by 12 is 108\n",
      " The multiplication of 10 by 12 is 120\n"
     ]
    }
   ],
   "source": [
    "multiply_me(12)"
   ]
  },
  {
   "cell_type": "code",
   "execution_count": 18,
   "metadata": {},
   "outputs": [
    {
     "name": "stdout",
     "output_type": "stream",
     "text": [
      " The multiplication of 1 by 15 is 15\n",
      " The multiplication of 2 by 15 is 30\n",
      " The multiplication of 3 by 15 is 45\n",
      " The multiplication of 4 by 15 is 60\n",
      " The multiplication of 5 by 15 is 75\n",
      " The multiplication of 6 by 15 is 90\n",
      " The multiplication of 7 by 15 is 105\n",
      " The multiplication of 8 by 15 is 120\n",
      " The multiplication of 9 by 15 is 135\n",
      " The multiplication of 10 by 15 is 150\n"
     ]
    }
   ],
   "source": [
    "multiply_me(15)"
   ]
  },
  {
   "cell_type": "code",
   "execution_count": 19,
   "metadata": {},
   "outputs": [],
   "source": [
    "\n",
    "# open data file and store it in a list\n",
    "# Read the data in from the file\n",
    "def get_data(file_name):\n",
    "  global data \n",
    "  with open(f\"data/{file_name}\", \"r\") as txt_file:\n",
    "    temp = txt_file.readlines()\n",
    "    temp.append('\\n') # this is to make sure the last line is read if there is no newline at the end of the file\n",
    "    data = []\n",
    "    for line in temp:\n",
    "      data.append(line.strip('\\n'))\n",
    "    # if the last line is empty, remove it\n",
    "    if data[-1] == '':\n",
    "      data.pop()\n",
    "  "
   ]
  },
  {
   "cell_type": "code",
   "execution_count": 39,
   "metadata": {},
   "outputs": [],
   "source": [
    "get_data(\"day1.txt\")"
   ]
  },
  {
   "cell_type": "code",
   "execution_count": 21,
   "metadata": {},
   "outputs": [
    {
     "data": {
      "text/plain": [
       "['3   4', '4   3', '2   5', '1   3', '3   9', '3   3']"
      ]
     },
     "execution_count": 21,
     "metadata": {},
     "output_type": "execute_result"
    }
   ],
   "source": [
    "data"
   ]
  },
  {
   "cell_type": "code",
   "execution_count": null,
   "metadata": {},
   "outputs": [],
   "source": [
    "data[0]\n"
   ]
  },
  {
   "cell_type": "code",
   "execution_count": 37,
   "metadata": {},
   "outputs": [
    {
     "data": {
      "text/plain": [
       "['hello', '4   3', '2   5', '1   3', '3   9', '3   3']"
      ]
     },
     "execution_count": 37,
     "metadata": {},
     "output_type": "execute_result"
    }
   ],
   "source": [
    "data"
   ]
  },
  {
   "cell_type": "code",
   "execution_count": 43,
   "metadata": {},
   "outputs": [
    {
     "name": "stdout",
     "output_type": "stream",
     "text": [
      "Left is [3, 4, 2, 1, 3, 3]\n",
      "Left sorted is [1, 2, 3, 3, 3, 4]\n",
      "\n",
      "Right is [4, 3, 5, 3, 9, 3]\n",
      "Right sorted is [3, 3, 3, 4, 5, 9]\n"
     ]
    }
   ],
   "source": [
    "left=[]\n",
    "right =[]\n",
    "for i in range(len(data)):\n",
    "  # print(data[i])\n",
    "  temp = data[i].split(\"   \")\n",
    "  left.append(int(temp[0]))\n",
    "  right.append(int(temp[1]))\n",
    "\n",
    "print(f'Left is {left}')\n",
    "left_s = sorted(left)\n",
    "print(f'Left sorted is {left_s}')\n",
    "print()\n",
    "right_s = sorted(right)\n",
    "print(f'Right is {right}')\n",
    "print(f'Right sorted is {right_s}')\n",
    "\n",
    "\n",
    "\n",
    "\n",
    "  "
   ]
  },
  {
   "cell_type": "code",
   "execution_count": 44,
   "metadata": {},
   "outputs": [
    {
     "name": "stdout",
     "output_type": "stream",
     "text": [
      "3 4\n",
      "4 3\n",
      "2 5\n",
      "1 3\n",
      "3 9\n",
      "3 3\n"
     ]
    }
   ],
   "source": [
    "for i in range(len(left)):\n",
    "  print(left[i], right[i])"
   ]
  },
  {
   "cell_type": "code",
   "execution_count": 51,
   "metadata": {},
   "outputs": [
    {
     "name": "stdout",
     "output_type": "stream",
     "text": [
      "The left is 1 the right is 3, the difference is 2, the running total is 2.\n",
      "The left is 2 the right is 3, the difference is 1, the running total is 3.\n",
      "The left is 3 the right is 3, the difference is 0, the running total is 3.\n",
      "The left is 3 the right is 4, the difference is 1, the running total is 4.\n",
      "The left is 3 the right is 5, the difference is 2, the running total is 6.\n",
      "The left is 4 the right is 9, the difference is 5, the running total is 11.\n"
     ]
    }
   ],
   "source": [
    "sum = 0\n",
    "for i in range(len(left)):\n",
    "  calc_this = right_s[i] - left_s[i]\n",
    "  sum = sum + calc_this\n",
    "  print(f\"The left is {left_s[i]} the right is {right_s[i]}, the difference is {calc_this}, the running total is {sum}.\")"
   ]
  },
  {
   "cell_type": "code",
   "execution_count": null,
   "metadata": {},
   "outputs": [],
   "source": []
  }
 ],
 "metadata": {
  "kernelspec": {
   "display_name": "Python 3",
   "language": "python",
   "name": "python3"
  },
  "language_info": {
   "codemirror_mode": {
    "name": "ipython",
    "version": 3
   },
   "file_extension": ".py",
   "mimetype": "text/x-python",
   "name": "python",
   "nbconvert_exporter": "python",
   "pygments_lexer": "ipython3",
   "version": "3.13.0"
  }
 },
 "nbformat": 4,
 "nbformat_minor": 2
}
